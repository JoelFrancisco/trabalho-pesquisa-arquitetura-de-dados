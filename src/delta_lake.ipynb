{
 "cells": [
  {
   "cell_type": "code",
   "execution_count": 19,
   "id": "23d3de68-d15c-438c-b116-e585bed06d37",
   "metadata": {},
   "outputs": [],
   "source": [
    "import pyspark\n",
    "from delta import *\n",
    "\n",
    "builder = pyspark.sql.SparkSession.builder.appName(\"trabalho-pesquisa-arquitetura-de-dados\") \\\n",
    "    .config(\"spark.sql.extensions\",\"io.delta.sql.DeltaSparkSessionExtension\") \\\n",
    "    .config(\"spark.sql.catalog.spark_catalog\",\"org.apache.spark.sql.delta.catalog.DeltaCatalog\")\n",
    "\n",
    "spark = configure_spark_with_delta_pip(builder).getOrCreate()"
   ]
  },
  {
   "cell_type": "code",
   "execution_count": 20,
   "id": "0926d359-84c6-4a87-9e0d-6a71eee89f61",
   "metadata": {},
   "outputs": [],
   "source": [
    "df = spark.read.option(\"header\", True).csv(\"/home/jovyan/data/Indain_Food_Cuisine_Dataset.csv\")"
   ]
  },
  {
   "cell_type": "code",
   "execution_count": 16,
   "id": "06421239-d892-45a6-8090-956d80cf168c",
   "metadata": {
    "scrolled": true
   },
   "outputs": [
    {
     "name": "stdout",
     "output_type": "stream",
     "text": [
      "+--------------------+--------------------+--------------------+--------------------+--------------------+--------------------+--------------------+--------------------+--------------------+--------------------+--------------------+--------------------+--------------------+\n",
      "|        name_of_Dish|           Diet_Type|         Course_name|  Discrption_of_Dish|        Cuisine_name|     Ratings_of_Dish|      Similar_Dishes| Ingredients_of_Dish|     Prepration_time|        Cooking_time|          Total_time|               Makes| Recipe_Instructions|\n",
      "+--------------------+--------------------+--------------------+--------------------+--------------------+--------------------+--------------------+--------------------+--------------------+--------------------+--------------------+--------------------+--------------------+\n",
      "|Gujarati Lasaniya...|    Diet: Vegetarian|   Course: Side Dish|Lasaniya Batata R...|['Cuisine: Gujara...|                 4.9|['Chatpata Baby P...|['Baby Potatoes',...|                20 M|                25 M|                45 M|          2 Servings|['To begin making...|\n",
      "|Palak Mushroom Ma...|Diet: High Protei...|       Course: Lunch|The Palak Mushroo...|['Cuisine: North ...|                 4.9|['Dhingri Matar R...|['Button mushroom...|                10 M|                30 M|                40 M|          4 Servings|['To begin making...|\n",
      "|Grilled Peri Peri...|    Diet: Vegetarian|      Course: Dinner|The Grilled Peri ...|['Cuisine: Contin...|                 4.9|['Paneer Makhani ...|\"['Paneer (Homema...|               'Oil'|  'Carrots (Gajjar)'| 'Green peas (Mat...|            'Garlic'|       'Lemon juice'|\n",
      "|Mangalorean Style...|    Diet: Vegetarian|       Course: Lunch|Mangalorean Style...|['Cuisine: Mangal...|                 4.9|['Mangalorean Man...|['Kabuli Chana (W...|                10 M|                45 M|                55 M|          4 Servings|['To begin making...|\n",
      "|Andhra Pepper Chi...|Diet: Non Vegeterian| Course: Main Course|Andhra Pepper Chi...| ['Cuisine: Andhra']|                 4.9|['Creamy Butter C...|['Chicken', 'Garl...|                20 M|                20 M|                40 M|          4 Servings|['To begin making...|\n",
      "|Avocado Mint Soup...|    Diet: Vegetarian|   Course: Appetizer|Climate is cloudy...|['Cuisine: Contin...|                 4.9|['Guacamole Soup ...|['Avocados', 'Gar...|                 5 M|                NULL|                NULL|                NULL|                NULL|\n",
      "|\", 20 M, 25 M, 2 ...|     take a saucepan| add the required...| red chilli and o...| 'Blend avocado a...| garlic and chill...| 'Pour the puree ...| 'Switch of the g...| 'Take a hand mortar| add 1 spoon of o...| 'Soup is ready t...|                NULL|                NULL|\n",
      "|Karwar Style Amba...|    Diet: Vegetarian|       Course: Lunch|Karwar Style Amba...|['Cuisine: Coasta...|                 4.8|['Karwar Style Va...|['Hog Plum (Amtek...|                25 M|                25 M|                50 M|          4 Servings|['To begin making...|\n",
      "|Goan Bimbla Uddam...|    Diet: Vegetarian|       Course: Lunch|Bimbla Uddamethi ...| ['Cuisine: Konkan']|                 4.9|['Vali Bhajji Amb...|['Bimbla (Bilimbi...|                10 M|                10 M|                20 M|          4 Servings|['To begin making...|\n",
      "|Waldorf Salad Recipe|    Diet: Vegetarian|   Course: Appetizer|Waldorf Salad Rec...|['Cuisine: Contin...|                 4.9|['Vegetarian Mexi...|['Apple', 'Celery...|                30 M|                 0 M|                NULL|                NULL|                NULL|\n",
      "|\", 30 M, 4 Servin...| keep all the ing...| 'Add cream and y...| sprinkle with sa...| 'You can serve i...| 'Serve the Waldo...|                NULL|                NULL|                NULL|                NULL|                NULL|                NULL|                NULL|\n",
      "|Bengali Bhetki Ma...|Diet: High Protei...|   Course: Side Dish|\"Bengali Bhetki M...| in Bengali. Gene...| Bhetki (Barramun...| or Pudina Rice R...| along with Benga...|['Cuisine: Bengal...|                 4.9|['Doi Bhetki Reci...|['Bhetki fish', '...|                15 M|\n",
      "|Carrot Porial Rec...|    Diet: Vegetarian|       Course: Lunch|Carrot Porial Rec...|['Cuisine: South ...|                 4.8|['Carrot and Bean...|['Carrots (Gajjar...|                10 M|                30 M|                40 M|          4 Servings|['To begin making...|\n",
      "|Vazhaithandu Pori...|Diet: Diabetic Fr...|       Course: Lunch|Vazhaithandu Pori...|['Cuisine: South ...|                 4.9|['Vazhaithandu, o...|['Banana Stem', '...|                30 M|                20 M|                50 M|          4 Servings|\"['To begin makin...|\n",
      "|Manathakkali Keer...|Diet: High Protei...|       Course: Lunch|Manathakkali Keer...|['Cuisine: South ...|                 4.9|['Chow Chow and C...|['Manathakkali Ke...|                20 M|                30 M|                50 M|          4 Servings|['To begin making...|\n",
      "|Mullangi Poriyal ...|    Diet: Vegetarian|       Course: Lunch|Mullangi Poriyal ...|['Cuisine: South ...|                 4.9|['Lauki Bharta', ...|['Mooli/ Mullangi...|                10 M|                20 M|                30 M|          6 Servings|['To begin making...|\n",
      "|Andhra Style Vank...|    Diet: Vegetarian|   Course: Side Dish|Brinjal cooked in...| ['Cuisine: Andhra']|                 4.9|['Pakodi Koora Re...|['Small Brinjal (...|                10 M|                20 M|                30 M|          2 Servings|['To begin making...|\n",
      "|Swedish Saffron B...|    Diet: Vegetarian|       Course: Snack|Swedish Saffron b...|['Cuisine: Europe...|                 4.9|['Whole Wheat Ros...|['All Purpose Flo...|                30 M|                20 M|                50 M|          5-6 Servin|['To begin making...|\n",
      "|3 minute Eggless ...|    Diet: Vegetarian|     Course: Dessert|Satisfy your swee...|['Cuisine: Contin...|                   5|                NULL|                NULL|                NULL|                NULL|                NULL|                NULL|                NULL|\n",
      "|                  6\"|                  []|\"['title=\"\"A Stra...|             is soft| moist and delici...|               'Oil'| 'Curd (Dahi / Yo...|     'Cashew nuts']\"|                 3 M|                NULL|                NULL|                NULL|                NULL|\n",
      "+--------------------+--------------------+--------------------+--------------------+--------------------+--------------------+--------------------+--------------------+--------------------+--------------------+--------------------+--------------------+--------------------+\n",
      "only showing top 20 rows\n",
      "\n"
     ]
    }
   ],
   "source": [
    "df.show()"
   ]
  },
  {
   "cell_type": "code",
   "execution_count": 10,
   "id": "c5a85106-fde5-4fc5-863d-95506bdb263c",
   "metadata": {},
   "outputs": [
    {
     "data": {
      "text/plain": [
       "DataFrame[]"
      ]
     },
     "execution_count": 10,
     "metadata": {},
     "output_type": "execute_result"
    }
   ],
   "source": [
    "spark.sql(\"\"\"CREATE TABLE dishe_region (id_region INTEGER, nome STRING) USING delta LOCATION '/home/jovyan/data/delta/dishe_region'\"\"\")"
   ]
  },
  {
   "cell_type": "code",
   "execution_count": 11,
   "id": "b6630faf-ca7e-4131-b6f3-064fcbd20fd8",
   "metadata": {
    "collapsed": true,
    "jupyter": {
     "outputs_hidden": true
    }
   },
   "outputs": [
    {
     "data": {
      "text/plain": [
       "DataFrame[]"
      ]
     },
     "execution_count": 11,
     "metadata": {},
     "output_type": "execute_result"
    }
   ],
   "source": [
    "spark.sql(\"\"\"CREATE TABLE diet_type (id_diet INTEGER, description STRING) USING delta LOCATION '/home/jovyan/data/delta/diet_type'\"\"\")"
   ]
  },
  {
   "cell_type": "code",
   "execution_count": 12,
   "id": "f9956bf0-1009-4e0e-b379-d22fde347bf9",
   "metadata": {},
   "outputs": [
    {
     "data": {
      "text/plain": [
       "DataFrame[]"
      ]
     },
     "execution_count": 12,
     "metadata": {},
     "output_type": "execute_result"
    }
   ],
   "source": [
    "spark.sql(\"\"\"CREATE TABLE dishe_instructions (id_instructions INTEGER, id_dishes INTEGER, instructions_seq INTEGER, description STRING) USING delta LOCATION '/home/jovyan/data/delta/dishe_instructions'\"\"\")"
   ]
  },
  {
   "cell_type": "code",
   "execution_count": 13,
   "id": "3ed87bf9-ed07-4b46-b8e2-babfaf39bef6",
   "metadata": {},
   "outputs": [
    {
     "data": {
      "text/plain": [
       "DataFrame[]"
      ]
     },
     "execution_count": 13,
     "metadata": {},
     "output_type": "execute_result"
    }
   ],
   "source": [
    "spark.sql(\"\"\"CREATE TABLE dishe_type (id_region INTEGER, name STRING) USING delta LOCATION '/home/jovyan/data/delta/dishe_type'\"\"\")"
   ]
  },
  {
   "cell_type": "code",
   "execution_count": null,
   "id": "f9b8f7c8-136a-412d-81a3-799e04344fc1",
   "metadata": {},
   "outputs": [],
   "source": [
    "spark.sql(\"\"\"CREATE TABLE dishe_similiar (id_similiar_dishes INTEGER, id_dishes INTEGER, name STRING) USING delta LOCATION '/home/jovyan/data/delta/dishe_similiar'\"\"\")"
   ]
  },
  {
   "cell_type": "code",
   "execution_count": 14,
   "id": "d78a5b5d-fb77-46bf-8362-262b2658f04c",
   "metadata": {},
   "outputs": [
    {
     "data": {
      "text/plain": [
       "DataFrame[]"
      ]
     },
     "execution_count": 14,
     "metadata": {},
     "output_type": "execute_result"
    }
   ],
   "source": [
    "spark.sql(\"\"\"CREATE TABLE dishe_ingredients (id_ingredients INTEGER, id_dishes INTEGER, name STRING, description STRING, quantity FLOAT, unit_of_measurement STRING) USING delta LOCATION '/home/jovyan/data/delta/dishe_ingredients'\"\"\")"
   ]
  },
  {
   "cell_type": "code",
   "execution_count": 15,
   "id": "992d5269-e2ae-4a4f-94ce-becd6dba07ba",
   "metadata": {},
   "outputs": [
    {
     "data": {
      "text/plain": [
       "DataFrame[]"
      ]
     },
     "execution_count": 15,
     "metadata": {},
     "output_type": "execute_result"
    }
   ],
   "source": [
    "spark.sql(\"\"\"CREATE TABLE dishes (id_dishes INTEGER, id_diet INTEGER, id_type INTEGER, description STRING, id_region INTEGER, rating INTEGER, id_similiar_dishes INTEGER, id_ingredients INTEGER, preparation_time INTEGER, cook_time INTEGER, makes INTEGER, id_instructions INTEGER) USING delta LOCATION '/home/jovyan/data/delta/dishes'\"\"\")"
   ]
  },
  {
   "cell_type": "code",
   "execution_count": 25,
   "id": "5a02cf8c-2631-42e1-befb-3643d6578c8d",
   "metadata": {},
   "outputs": [
    {
     "ename": "ParseException",
     "evalue": "\n[PARSE_SYNTAX_ERROR] Syntax error at or near 'USING'.(line 1, pos 125)\n\n== SQL ==\nINSERT INTO diet_type VALUES (1,'Vegetarian'), (2,'High Protein Non Vegetarian'), (3,'High Protein Vegetarian'), (4,'Vegan') USING delta\n-----------------------------------------------------------------------------------------------------------------------------^^^\n",
     "output_type": "error",
     "traceback": [
      "\u001b[0;31m---------------------------------------------------------------------------\u001b[0m",
      "\u001b[0;31mParseException\u001b[0m                            Traceback (most recent call last)",
      "Cell \u001b[0;32mIn[25], line 1\u001b[0m\n\u001b[0;32m----> 1\u001b[0m \u001b[43mspark\u001b[49m\u001b[38;5;241;43m.\u001b[39;49m\u001b[43msql\u001b[49m\u001b[43m(\u001b[49m\u001b[38;5;124;43m\"\"\"\u001b[39;49m\u001b[38;5;124;43mINSERT INTO diet_type VALUES (1,\u001b[39;49m\u001b[38;5;124;43m'\u001b[39;49m\u001b[38;5;124;43mVegetarian\u001b[39;49m\u001b[38;5;124;43m'\u001b[39;49m\u001b[38;5;124;43m), (2,\u001b[39;49m\u001b[38;5;124;43m'\u001b[39;49m\u001b[38;5;124;43mHigh Protein Non Vegetarian\u001b[39;49m\u001b[38;5;124;43m'\u001b[39;49m\u001b[38;5;124;43m), (3,\u001b[39;49m\u001b[38;5;124;43m'\u001b[39;49m\u001b[38;5;124;43mHigh Protein Vegetarian\u001b[39;49m\u001b[38;5;124;43m'\u001b[39;49m\u001b[38;5;124;43m), (4,\u001b[39;49m\u001b[38;5;124;43m'\u001b[39;49m\u001b[38;5;124;43mVegan\u001b[39;49m\u001b[38;5;124;43m'\u001b[39;49m\u001b[38;5;124;43m) USING delta\u001b[39;49m\u001b[38;5;124;43m\"\"\"\u001b[39;49m\u001b[43m)\u001b[49m\n",
      "File \u001b[0;32m/usr/local/spark/python/pyspark/sql/session.py:1631\u001b[0m, in \u001b[0;36mSparkSession.sql\u001b[0;34m(self, sqlQuery, args, **kwargs)\u001b[0m\n\u001b[1;32m   1627\u001b[0m         \u001b[38;5;28;01massert\u001b[39;00m \u001b[38;5;28mself\u001b[39m\u001b[38;5;241m.\u001b[39m_jvm \u001b[38;5;129;01mis\u001b[39;00m \u001b[38;5;129;01mnot\u001b[39;00m \u001b[38;5;28;01mNone\u001b[39;00m\n\u001b[1;32m   1628\u001b[0m         litArgs \u001b[38;5;241m=\u001b[39m \u001b[38;5;28mself\u001b[39m\u001b[38;5;241m.\u001b[39m_jvm\u001b[38;5;241m.\u001b[39mPythonUtils\u001b[38;5;241m.\u001b[39mtoArray(\n\u001b[1;32m   1629\u001b[0m             [_to_java_column(lit(v)) \u001b[38;5;28;01mfor\u001b[39;00m v \u001b[38;5;129;01min\u001b[39;00m (args \u001b[38;5;129;01mor\u001b[39;00m [])]\n\u001b[1;32m   1630\u001b[0m         )\n\u001b[0;32m-> 1631\u001b[0m     \u001b[38;5;28;01mreturn\u001b[39;00m DataFrame(\u001b[38;5;28;43mself\u001b[39;49m\u001b[38;5;241;43m.\u001b[39;49m\u001b[43m_jsparkSession\u001b[49m\u001b[38;5;241;43m.\u001b[39;49m\u001b[43msql\u001b[49m\u001b[43m(\u001b[49m\u001b[43msqlQuery\u001b[49m\u001b[43m,\u001b[49m\u001b[43m \u001b[49m\u001b[43mlitArgs\u001b[49m\u001b[43m)\u001b[49m, \u001b[38;5;28mself\u001b[39m)\n\u001b[1;32m   1632\u001b[0m \u001b[38;5;28;01mfinally\u001b[39;00m:\n\u001b[1;32m   1633\u001b[0m     \u001b[38;5;28;01mif\u001b[39;00m \u001b[38;5;28mlen\u001b[39m(kwargs) \u001b[38;5;241m>\u001b[39m \u001b[38;5;241m0\u001b[39m:\n",
      "File \u001b[0;32m/usr/local/spark/python/lib/py4j-0.10.9.7-src.zip/py4j/java_gateway.py:1322\u001b[0m, in \u001b[0;36mJavaMember.__call__\u001b[0;34m(self, *args)\u001b[0m\n\u001b[1;32m   1316\u001b[0m command \u001b[38;5;241m=\u001b[39m proto\u001b[38;5;241m.\u001b[39mCALL_COMMAND_NAME \u001b[38;5;241m+\u001b[39m\\\n\u001b[1;32m   1317\u001b[0m     \u001b[38;5;28mself\u001b[39m\u001b[38;5;241m.\u001b[39mcommand_header \u001b[38;5;241m+\u001b[39m\\\n\u001b[1;32m   1318\u001b[0m     args_command \u001b[38;5;241m+\u001b[39m\\\n\u001b[1;32m   1319\u001b[0m     proto\u001b[38;5;241m.\u001b[39mEND_COMMAND_PART\n\u001b[1;32m   1321\u001b[0m answer \u001b[38;5;241m=\u001b[39m \u001b[38;5;28mself\u001b[39m\u001b[38;5;241m.\u001b[39mgateway_client\u001b[38;5;241m.\u001b[39msend_command(command)\n\u001b[0;32m-> 1322\u001b[0m return_value \u001b[38;5;241m=\u001b[39m \u001b[43mget_return_value\u001b[49m\u001b[43m(\u001b[49m\n\u001b[1;32m   1323\u001b[0m \u001b[43m    \u001b[49m\u001b[43manswer\u001b[49m\u001b[43m,\u001b[49m\u001b[43m \u001b[49m\u001b[38;5;28;43mself\u001b[39;49m\u001b[38;5;241;43m.\u001b[39;49m\u001b[43mgateway_client\u001b[49m\u001b[43m,\u001b[49m\u001b[43m \u001b[49m\u001b[38;5;28;43mself\u001b[39;49m\u001b[38;5;241;43m.\u001b[39;49m\u001b[43mtarget_id\u001b[49m\u001b[43m,\u001b[49m\u001b[43m \u001b[49m\u001b[38;5;28;43mself\u001b[39;49m\u001b[38;5;241;43m.\u001b[39;49m\u001b[43mname\u001b[49m\u001b[43m)\u001b[49m\n\u001b[1;32m   1325\u001b[0m \u001b[38;5;28;01mfor\u001b[39;00m temp_arg \u001b[38;5;129;01min\u001b[39;00m temp_args:\n\u001b[1;32m   1326\u001b[0m     \u001b[38;5;28;01mif\u001b[39;00m \u001b[38;5;28mhasattr\u001b[39m(temp_arg, \u001b[38;5;124m\"\u001b[39m\u001b[38;5;124m_detach\u001b[39m\u001b[38;5;124m\"\u001b[39m):\n",
      "File \u001b[0;32m/usr/local/spark/python/pyspark/errors/exceptions/captured.py:185\u001b[0m, in \u001b[0;36mcapture_sql_exception.<locals>.deco\u001b[0;34m(*a, **kw)\u001b[0m\n\u001b[1;32m    181\u001b[0m converted \u001b[38;5;241m=\u001b[39m convert_exception(e\u001b[38;5;241m.\u001b[39mjava_exception)\n\u001b[1;32m    182\u001b[0m \u001b[38;5;28;01mif\u001b[39;00m \u001b[38;5;129;01mnot\u001b[39;00m \u001b[38;5;28misinstance\u001b[39m(converted, UnknownException):\n\u001b[1;32m    183\u001b[0m     \u001b[38;5;66;03m# Hide where the exception came from that shows a non-Pythonic\u001b[39;00m\n\u001b[1;32m    184\u001b[0m     \u001b[38;5;66;03m# JVM exception message.\u001b[39;00m\n\u001b[0;32m--> 185\u001b[0m     \u001b[38;5;28;01mraise\u001b[39;00m converted \u001b[38;5;28;01mfrom\u001b[39;00m \u001b[38;5;28;01mNone\u001b[39;00m\n\u001b[1;32m    186\u001b[0m \u001b[38;5;28;01melse\u001b[39;00m:\n\u001b[1;32m    187\u001b[0m     \u001b[38;5;28;01mraise\u001b[39;00m\n",
      "\u001b[0;31mParseException\u001b[0m: \n[PARSE_SYNTAX_ERROR] Syntax error at or near 'USING'.(line 1, pos 125)\n\n== SQL ==\nINSERT INTO diet_type VALUES (1,'Vegetarian'), (2,'High Protein Non Vegetarian'), (3,'High Protein Vegetarian'), (4,'Vegan') USING delta\n-----------------------------------------------------------------------------------------------------------------------------^^^\n"
     ]
    }
   ],
   "source": [
    "spark.sql(\"\"\"INSERT INTO diet_type VALUES (1,'Vegetarian'), (2,'High Protein Non Vegetarian'), (3,'High Protein Vegetarian'), (4,'Vegan')\"\"\")"
   ]
  },
  {
   "cell_type": "code",
   "execution_count": null,
   "id": "55dd7cf5-b344-4822-a665-adfd777e10ea",
   "metadata": {},
   "outputs": [],
   "source": []
  }
 ],
 "metadata": {
  "kernelspec": {
   "display_name": "Python 3 (ipykernel)",
   "language": "python",
   "name": "python3"
  },
  "language_info": {
   "codemirror_mode": {
    "name": "ipython",
    "version": 3
   },
   "file_extension": ".py",
   "mimetype": "text/x-python",
   "name": "python",
   "nbconvert_exporter": "python",
   "pygments_lexer": "ipython3",
   "version": "3.11.8"
  }
 },
 "nbformat": 4,
 "nbformat_minor": 5
}
