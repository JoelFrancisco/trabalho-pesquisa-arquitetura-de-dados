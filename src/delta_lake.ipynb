{
 "cells": [
  {
   "cell_type": "markdown",
   "id": "64dbc4a9-9729-4a86-855f-6bd3f2712e0d",
   "metadata": {},
   "source": [
    "# Modelo ER\n",
    "\n",
    "![Modelo Er](https://raw.githubusercontent.com/JoelFrancisco/trabalho-pesquisa-arquitetura-de-dados/main/github/modelo_er.png)"
   ]
  },
  {
   "cell_type": "code",
   "execution_count": 1,
   "id": "be598d64-ff30-4e76-b773-2edec553f76e",
   "metadata": {},
   "outputs": [],
   "source": [
    "WORK_DIR = \"/home/jovyan/\""
   ]
  },
  {
   "cell_type": "code",
   "execution_count": 2,
   "id": "23d3de68-d15c-438c-b116-e585bed06d37",
   "metadata": {},
   "outputs": [],
   "source": [
    "import pyspark\n",
    "from delta import *\n",
    "\n",
    "builder = pyspark.sql.SparkSession.builder.appName(\"trabalho-pesquisa-arquitetura-de-dados\") \\\n",
    "    .config(\"spark.sql.extensions\",\"io.delta.sql.DeltaSparkSessionExtension\") \\\n",
    "    .config(\"spark.sql.catalog.spark_catalog\",\"org.apache.spark.sql.delta.catalog.DeltaCatalog\")\n",
    "\n",
    "spark = configure_spark_with_delta_pip(builder).getOrCreate()"
   ]
  },
  {
   "cell_type": "code",
   "execution_count": 3,
   "id": "0926d359-84c6-4a87-9e0d-6a71eee89f61",
   "metadata": {},
   "outputs": [],
   "source": [
    "df = spark.read.option(\"header\", True).csv(\"/home/jovyan/data/Indain_Food_Cuisine_Dataset.csv\")"
   ]
  },
  {
   "cell_type": "code",
   "execution_count": 4,
   "id": "06421239-d892-45a6-8090-956d80cf168c",
   "metadata": {
    "scrolled": true
   },
   "outputs": [
    {
     "name": "stdout",
     "output_type": "stream",
     "text": [
      "+--------------------+--------------------+--------------------+--------------------+--------------------+--------------------+--------------------+--------------------+--------------------+--------------------+--------------------+--------------------+--------------------+\n",
      "|        name_of_Dish|           Diet_Type|         Course_name|  Discrption_of_Dish|        Cuisine_name|     Ratings_of_Dish|      Similar_Dishes| Ingredients_of_Dish|     Prepration_time|        Cooking_time|          Total_time|               Makes| Recipe_Instructions|\n",
      "+--------------------+--------------------+--------------------+--------------------+--------------------+--------------------+--------------------+--------------------+--------------------+--------------------+--------------------+--------------------+--------------------+\n",
      "|Gujarati Lasaniya...|    Diet: Vegetarian|   Course: Side Dish|Lasaniya Batata R...|['Cuisine: Gujara...|                 4.9|['Chatpata Baby P...|['Baby Potatoes',...|                20 M|                25 M|                45 M|          2 Servings|['To begin making...|\n",
      "|Palak Mushroom Ma...|Diet: High Protei...|       Course: Lunch|The Palak Mushroo...|['Cuisine: North ...|                 4.9|['Dhingri Matar R...|['Button mushroom...|                10 M|                30 M|                40 M|          4 Servings|['To begin making...|\n",
      "|Grilled Peri Peri...|    Diet: Vegetarian|      Course: Dinner|The Grilled Peri ...|['Cuisine: Contin...|                 4.9|['Paneer Makhani ...|\"['Paneer (Homema...|               'Oil'|  'Carrots (Gajjar)'| 'Green peas (Mat...|            'Garlic'|       'Lemon juice'|\n",
      "|Mangalorean Style...|    Diet: Vegetarian|       Course: Lunch|Mangalorean Style...|['Cuisine: Mangal...|                 4.9|['Mangalorean Man...|['Kabuli Chana (W...|                10 M|                45 M|                55 M|          4 Servings|['To begin making...|\n",
      "|Andhra Pepper Chi...|Diet: Non Vegeterian| Course: Main Course|Andhra Pepper Chi...| ['Cuisine: Andhra']|                 4.9|['Creamy Butter C...|['Chicken', 'Garl...|                20 M|                20 M|                40 M|          4 Servings|['To begin making...|\n",
      "|Avocado Mint Soup...|    Diet: Vegetarian|   Course: Appetizer|Climate is cloudy...|['Cuisine: Contin...|                 4.9|['Guacamole Soup ...|['Avocados', 'Gar...|                 5 M|                NULL|                NULL|                NULL|                NULL|\n",
      "|\", 20 M, 25 M, 2 ...|     take a saucepan| add the required...| red chilli and o...| 'Blend avocado a...| garlic and chill...| 'Pour the puree ...| 'Switch of the g...| 'Take a hand mortar| add 1 spoon of o...| 'Soup is ready t...|                NULL|                NULL|\n",
      "|Karwar Style Amba...|    Diet: Vegetarian|       Course: Lunch|Karwar Style Amba...|['Cuisine: Coasta...|                 4.8|['Karwar Style Va...|['Hog Plum (Amtek...|                25 M|                25 M|                50 M|          4 Servings|['To begin making...|\n",
      "|Goan Bimbla Uddam...|    Diet: Vegetarian|       Course: Lunch|Bimbla Uddamethi ...| ['Cuisine: Konkan']|                 4.9|['Vali Bhajji Amb...|['Bimbla (Bilimbi...|                10 M|                10 M|                20 M|          4 Servings|['To begin making...|\n",
      "|Waldorf Salad Recipe|    Diet: Vegetarian|   Course: Appetizer|Waldorf Salad Rec...|['Cuisine: Contin...|                 4.9|['Vegetarian Mexi...|['Apple', 'Celery...|                30 M|                 0 M|                NULL|                NULL|                NULL|\n",
      "|\", 30 M, 4 Servin...| keep all the ing...| 'Add cream and y...| sprinkle with sa...| 'You can serve i...| 'Serve the Waldo...|                NULL|                NULL|                NULL|                NULL|                NULL|                NULL|                NULL|\n",
      "|Bengali Bhetki Ma...|Diet: High Protei...|   Course: Side Dish|\"Bengali Bhetki M...| in Bengali. Gene...| Bhetki (Barramun...| or Pudina Rice R...| along with Benga...|['Cuisine: Bengal...|                 4.9|['Doi Bhetki Reci...|['Bhetki fish', '...|                15 M|\n",
      "|Carrot Porial Rec...|    Diet: Vegetarian|       Course: Lunch|Carrot Porial Rec...|['Cuisine: South ...|                 4.8|['Carrot and Bean...|['Carrots (Gajjar...|                10 M|                30 M|                40 M|          4 Servings|['To begin making...|\n",
      "|Vazhaithandu Pori...|Diet: Diabetic Fr...|       Course: Lunch|Vazhaithandu Pori...|['Cuisine: South ...|                 4.9|['Vazhaithandu, o...|['Banana Stem', '...|                30 M|                20 M|                50 M|          4 Servings|\"['To begin makin...|\n",
      "|Manathakkali Keer...|Diet: High Protei...|       Course: Lunch|Manathakkali Keer...|['Cuisine: South ...|                 4.9|['Chow Chow and C...|['Manathakkali Ke...|                20 M|                30 M|                50 M|          4 Servings|['To begin making...|\n",
      "|Mullangi Poriyal ...|    Diet: Vegetarian|       Course: Lunch|Mullangi Poriyal ...|['Cuisine: South ...|                 4.9|['Lauki Bharta', ...|['Mooli/ Mullangi...|                10 M|                20 M|                30 M|          6 Servings|['To begin making...|\n",
      "|Andhra Style Vank...|    Diet: Vegetarian|   Course: Side Dish|Brinjal cooked in...| ['Cuisine: Andhra']|                 4.9|['Pakodi Koora Re...|['Small Brinjal (...|                10 M|                20 M|                30 M|          2 Servings|['To begin making...|\n",
      "|Swedish Saffron B...|    Diet: Vegetarian|       Course: Snack|Swedish Saffron b...|['Cuisine: Europe...|                 4.9|['Whole Wheat Ros...|['All Purpose Flo...|                30 M|                20 M|                50 M|          5-6 Servin|['To begin making...|\n",
      "|3 minute Eggless ...|    Diet: Vegetarian|     Course: Dessert|Satisfy your swee...|['Cuisine: Contin...|                   5|                NULL|                NULL|                NULL|                NULL|                NULL|                NULL|                NULL|\n",
      "|                  6\"|                  []|\"['title=\"\"A Stra...|             is soft| moist and delici...|               'Oil'| 'Curd (Dahi / Yo...|     'Cashew nuts']\"|                 3 M|                NULL|                NULL|                NULL|                NULL|\n",
      "+--------------------+--------------------+--------------------+--------------------+--------------------+--------------------+--------------------+--------------------+--------------------+--------------------+--------------------+--------------------+--------------------+\n",
      "only showing top 20 rows\n",
      "\n"
     ]
    }
   ],
   "source": [
    "df.show()"
   ]
  },
  {
   "cell_type": "code",
   "execution_count": 5,
   "id": "c5a85106-fde5-4fc5-863d-95506bdb263c",
   "metadata": {},
   "outputs": [
    {
     "data": {
      "text/plain": [
       "DataFrame[]"
      ]
     },
     "execution_count": 5,
     "metadata": {},
     "output_type": "execute_result"
    }
   ],
   "source": [
    "spark.sql(\"\"\"CREATE TABLE dishe_region (id_region INTEGER, nome STRING) USING delta LOCATION '/home/jovyan/data/delta/dishe_region'\"\"\")"
   ]
  },
  {
   "cell_type": "code",
   "execution_count": 6,
   "id": "b6630faf-ca7e-4131-b6f3-064fcbd20fd8",
   "metadata": {},
   "outputs": [
    {
     "data": {
      "text/plain": [
       "DataFrame[]"
      ]
     },
     "execution_count": 6,
     "metadata": {},
     "output_type": "execute_result"
    }
   ],
   "source": [
    "spark.sql(\"\"\"CREATE TABLE diet_type (id_diet INTEGER, description STRING) USING delta LOCATION '/home/jovyan/data/delta/diet_type'\"\"\")"
   ]
  },
  {
   "cell_type": "code",
   "execution_count": 7,
   "id": "f9956bf0-1009-4e0e-b379-d22fde347bf9",
   "metadata": {},
   "outputs": [
    {
     "data": {
      "text/plain": [
       "DataFrame[]"
      ]
     },
     "execution_count": 7,
     "metadata": {},
     "output_type": "execute_result"
    }
   ],
   "source": [
    "spark.sql(\"\"\"CREATE TABLE dishe_instructions (id_instructions INTEGER, id_dishes INTEGER, instructions_seq INTEGER, description STRING) USING delta LOCATION '/home/jovyan/data/delta/dishe_instructions'\"\"\")"
   ]
  },
  {
   "cell_type": "code",
   "execution_count": 8,
   "id": "3ed87bf9-ed07-4b46-b8e2-babfaf39bef6",
   "metadata": {},
   "outputs": [
    {
     "data": {
      "text/plain": [
       "DataFrame[]"
      ]
     },
     "execution_count": 8,
     "metadata": {},
     "output_type": "execute_result"
    }
   ],
   "source": [
    "spark.sql(\"\"\"CREATE TABLE dishe_type (id_region INTEGER, name STRING) USING delta LOCATION '/home/jovyan/data/delta/dishe_type'\"\"\")"
   ]
  },
  {
   "cell_type": "code",
   "execution_count": 9,
   "id": "f9b8f7c8-136a-412d-81a3-799e04344fc1",
   "metadata": {},
   "outputs": [
    {
     "data": {
      "text/plain": [
       "DataFrame[]"
      ]
     },
     "execution_count": 9,
     "metadata": {},
     "output_type": "execute_result"
    }
   ],
   "source": [
    "spark.sql(\"\"\"CREATE TABLE dishe_similiar (id_similiar_dishes INTEGER, id_dishes INTEGER, name STRING) USING delta LOCATION '/home/jovyan/data/delta/dishe_similiar'\"\"\")"
   ]
  },
  {
   "cell_type": "code",
   "execution_count": 10,
   "id": "d78a5b5d-fb77-46bf-8362-262b2658f04c",
   "metadata": {},
   "outputs": [
    {
     "data": {
      "text/plain": [
       "DataFrame[]"
      ]
     },
     "execution_count": 10,
     "metadata": {},
     "output_type": "execute_result"
    }
   ],
   "source": [
    "spark.sql(\"\"\"CREATE TABLE dishe_ingredients (id_ingredients INTEGER, id_dishes INTEGER, name STRING, description STRING, quantity FLOAT, unit_of_measurement STRING) USING delta LOCATION '/home/jovyan/data/delta/dishe_ingredients'\"\"\")"
   ]
  },
  {
   "cell_type": "code",
   "execution_count": 11,
   "id": "992d5269-e2ae-4a4f-94ce-becd6dba07ba",
   "metadata": {},
   "outputs": [
    {
     "data": {
      "text/plain": [
       "DataFrame[]"
      ]
     },
     "execution_count": 11,
     "metadata": {},
     "output_type": "execute_result"
    }
   ],
   "source": [
    "spark.sql(\"\"\"CREATE TABLE dishes (id_dishes INTEGER, id_diet INTEGER, id_type INTEGER, description STRING, id_region INTEGER, rating INTEGER, id_similiar_dishes INTEGER, id_ingredients INTEGER, preparation_time INTEGER, cook_time INTEGER, makes INTEGER, id_instructions INTEGER) USING delta LOCATION '/home/jovyan/data/delta/dishes'\"\"\")"
   ]
  },
  {
   "cell_type": "code",
   "execution_count": 12,
   "id": "55dd7cf5-b344-4822-a665-adfd777e10ea",
   "metadata": {},
   "outputs": [],
   "source": [
    "dishe_region = df.select('Cuisine_name')"
   ]
  },
  {
   "cell_type": "code",
   "execution_count": null,
   "id": "d506f8eb-960d-49d3-bf80-89de2d50b329",
   "metadata": {},
   "outputs": [],
   "source": [
    "dishe_region.show()"
   ]
  },
  {
   "cell_type": "code",
   "execution_count": 14,
   "id": "733acf7d-76ab-4293-be52-806b9e3c1a0e",
   "metadata": {},
   "outputs": [],
   "source": [
    "from pyspark.sql.functions import monotonically_increasing_id\n",
    "\n",
    "dishe_region = dishe_region.withColumn(\"id_region\", monotonically_increasing_id().cast(\"int\"))"
   ]
  },
  {
   "cell_type": "code",
   "execution_count": 15,
   "id": "4a65ad84-eef2-468b-82c3-5ecd7aaa88ec",
   "metadata": {},
   "outputs": [
    {
     "name": "stdout",
     "output_type": "stream",
     "text": [
      "+--------------------+---------+\n",
      "|        Cuisine_name|id_region|\n",
      "+--------------------+---------+\n",
      "|['Cuisine: Gujara...|        0|\n",
      "|['Cuisine: North ...|        1|\n",
      "|['Cuisine: Contin...|        2|\n",
      "|['Cuisine: Mangal...|        3|\n",
      "| ['Cuisine: Andhra']|        4|\n",
      "|['Cuisine: Contin...|        5|\n",
      "| 'Blend avocado a...|        6|\n",
      "|['Cuisine: Coasta...|        7|\n",
      "| ['Cuisine: Konkan']|        8|\n",
      "|['Cuisine: Contin...|        9|\n",
      "| 'You can serve i...|       10|\n",
      "| in Bengali. Gene...|       11|\n",
      "|['Cuisine: South ...|       12|\n",
      "|['Cuisine: South ...|       13|\n",
      "|['Cuisine: South ...|       14|\n",
      "|['Cuisine: South ...|       15|\n",
      "| ['Cuisine: Andhra']|       16|\n",
      "|['Cuisine: Europe...|       17|\n",
      "|['Cuisine: Contin...|       18|\n",
      "| moist and delici...|       19|\n",
      "+--------------------+---------+\n",
      "only showing top 20 rows\n",
      "\n"
     ]
    }
   ],
   "source": [
    "dishe_region.show()"
   ]
  },
  {
   "cell_type": "code",
   "execution_count": 16,
   "id": "26f1373e-b81c-48ea-b719-82a260e6f8f4",
   "metadata": {},
   "outputs": [],
   "source": [
    "dishe_region = dishe_region.withColumnRenamed(\"Cuisine_name\", \"nome\")"
   ]
  },
  {
   "cell_type": "code",
   "execution_count": 17,
   "id": "6244e404-469f-4c45-b485-21ab37bc0d90",
   "metadata": {},
   "outputs": [],
   "source": [
    "dishe_region.write.format(\"delta\").mode(\"append\").save(\"/home/jovyan/data/delta/dishe_region\")"
   ]
  },
  {
   "cell_type": "code",
   "execution_count": 18,
   "id": "5a02cf8c-2631-42e1-befb-3643d6578c8d",
   "metadata": {},
   "outputs": [
    {
     "name": "stdout",
     "output_type": "stream",
     "text": [
      "+---------+--------------------+\n",
      "|id_region|                nome|\n",
      "+---------+--------------------+\n",
      "|        0|['Cuisine: South ...|\n",
      "|        1|['Cuisine: Uttar ...|\n",
      "|        2| ['Cuisine: Indian']|\n",
      "|        3|['Cuisine: Mangal...|\n",
      "|        4|['Cuisine: Karnat...|\n",
      "|        5|['Cuisine: South ...|\n",
      "|        6| ['Cuisine: Indian']|\n",
      "|        7|                60 M|\n",
      "|        8|['Cuisine: North ...|\n",
      "|        9|['Cuisine: North ...|\n",
      "|       10| ['Cuisine: Indian']|\n",
      "|       11|['Cuisine: Contin...|\n",
      "|       12|['Cuisine: Contin...|\n",
      "|       13| ['Cuisine: Indian']|\n",
      "|       14| 'Let the peas be...|\n",
      "|       15| ['Cuisine: Indian']|\n",
      "|       16|['Cuisine: Kerala...|\n",
      "|       17|['Cuisine: South ...|\n",
      "|       18|  ['Cuisine: Asian']|\n",
      "|       19| ['Cuisine: Indian']|\n",
      "+---------+--------------------+\n",
      "only showing top 20 rows\n",
      "\n"
     ]
    }
   ],
   "source": [
    "result = spark.sql(\"SELECT * FROM dishe_region\")\n",
    "result.show()"
   ]
  },
  {
   "cell_type": "code",
   "execution_count": 19,
   "id": "6302c611-bdb8-4cee-9810-70ca1dada0f9",
   "metadata": {},
   "outputs": [
    {
     "data": {
      "text/plain": [
       "DataFrame[num_affected_rows: bigint]"
      ]
     },
     "execution_count": 19,
     "metadata": {},
     "output_type": "execute_result"
    }
   ],
   "source": [
    "spark.sql(\"\"\"DELETE FROM dishe_region WHERE id_region=1\"\"\")"
   ]
  },
  {
   "cell_type": "code",
   "execution_count": 20,
   "id": "965252e6-190b-45f8-9b11-e03ab38f67ae",
   "metadata": {},
   "outputs": [
    {
     "name": "stdout",
     "output_type": "stream",
     "text": [
      "+---------+--------------------+\n",
      "|id_region|                nome|\n",
      "+---------+--------------------+\n",
      "|        0|['Cuisine: Gujara...|\n",
      "|        2|['Cuisine: Contin...|\n",
      "|        3|['Cuisine: Mangal...|\n",
      "|        4| ['Cuisine: Andhra']|\n",
      "|        5|['Cuisine: Contin...|\n",
      "|        6| 'Blend avocado a...|\n",
      "|        7|['Cuisine: Coasta...|\n",
      "|        8| ['Cuisine: Konkan']|\n",
      "|        9|['Cuisine: Contin...|\n",
      "|       10| 'You can serve i...|\n",
      "|       11| in Bengali. Gene...|\n",
      "|       12|['Cuisine: South ...|\n",
      "|       13|['Cuisine: South ...|\n",
      "|       14|['Cuisine: South ...|\n",
      "|       15|['Cuisine: South ...|\n",
      "|       16| ['Cuisine: Andhra']|\n",
      "|       17|['Cuisine: Europe...|\n",
      "|       18|['Cuisine: Contin...|\n",
      "|       19| moist and delici...|\n",
      "|       20|                NULL|\n",
      "+---------+--------------------+\n",
      "only showing top 20 rows\n",
      "\n"
     ]
    }
   ],
   "source": [
    "result = spark.sql(\"SELECT * FROM dishe_region\")\n",
    "result.show()"
   ]
  },
  {
   "cell_type": "code",
   "execution_count": 21,
   "id": "4693c52b-0c0c-4c0b-8fe5-0be9dd3fc664",
   "metadata": {},
   "outputs": [
    {
     "data": {
      "text/plain": [
       "DataFrame[num_affected_rows: bigint]"
      ]
     },
     "execution_count": 21,
     "metadata": {},
     "output_type": "execute_result"
    }
   ],
   "source": [
    "spark.sql(\"\"\"UPDATE dishe_region SET nome='AAAAA' WHERE id_region=0\"\"\")"
   ]
  },
  {
   "cell_type": "code",
   "execution_count": 22,
   "id": "8c3aa45b-8fd7-4693-818d-d59870c6f1e0",
   "metadata": {},
   "outputs": [
    {
     "name": "stdout",
     "output_type": "stream",
     "text": [
      "+---------+--------------------+\n",
      "|id_region|                nome|\n",
      "+---------+--------------------+\n",
      "|        0|               AAAAA|\n",
      "|        2|['Cuisine: Contin...|\n",
      "|        3|['Cuisine: North ...|\n",
      "|        4|['Cuisine: South ...|\n",
      "|        5| ['Cuisine: Indian']|\n",
      "|        6| ['Cuisine: French']|\n",
      "|        7| ['Cuisine: Fusion']|\n",
      "|        8|['Cuisine: Bengal...|\n",
      "|        9| and garlic paste...|\n",
      "|       10| ['Cuisine: Indian']|\n",
      "|       11|['Cuisine: Kerala...|\n",
      "|       12|['Cuisine: South ...|\n",
      "|       13| ['Cuisine: Indian']|\n",
      "|       14|['Cuisine: South ...|\n",
      "|       15| ['Cuisine: Fusion']|\n",
      "|       16|['Cuisine: Goan R...|\n",
      "|       17|['Cuisine: North ...|\n",
      "|       18|['Cuisine: Japane...|\n",
      "|       19|['Cuisine: North ...|\n",
      "|       20| ['Cuisine: Indian']|\n",
      "+---------+--------------------+\n",
      "only showing top 20 rows\n",
      "\n"
     ]
    }
   ],
   "source": [
    "result = spark.sql(\"SELECT * FROM dishe_region\")\n",
    "result.show()"
   ]
  },
  {
   "cell_type": "code",
   "execution_count": null,
   "id": "b8f9a898-eaa0-4736-9b05-a66763fe8641",
   "metadata": {},
   "outputs": [],
   "source": []
  }
 ],
 "metadata": {
  "kernelspec": {
   "display_name": "Python 3 (ipykernel)",
   "language": "python",
   "name": "python3"
  },
  "language_info": {
   "codemirror_mode": {
    "name": "ipython",
    "version": 3
   },
   "file_extension": ".py",
   "mimetype": "text/x-python",
   "name": "python",
   "nbconvert_exporter": "python",
   "pygments_lexer": "ipython3",
   "version": "3.11.8"
  }
 },
 "nbformat": 4,
 "nbformat_minor": 5
}
